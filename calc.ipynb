{
 "cells": [
  {
   "cell_type": "code",
   "execution_count": 1,
   "metadata": {},
   "outputs": [
    {
     "name": "stdout",
     "output_type": "stream",
     "text": [
      "*******WELCOME TO CALCULATOR\n",
      "*****\n",
      "Enter first value:3\n",
      "Enter second value:4\n",
      "ADDITION: 7.0\n",
      "SUBTRACTION: -1.0\n",
      "PRODUCT 12.0\n",
      "DIVISION: 0.75\n"
     ]
    }
   ],
   "source": [
    "print(\"*******WELCOME TO CALCULATOR\\n*****\")\n",
    "a=float(input(\"Enter first value:\"))\n",
    "b=float(input(\"Enter second value:\"))\n",
    "print(\"ADDITION:\",a+b)\n",
    "print(\"SUBTRACTION:\",a-b)\n",
    "print(\"PRODUCT\",a*b)\n",
    "print(\"DIVISION:\",a/b)"
   ]
  },
  {
   "cell_type": "code",
   "execution_count": null,
   "metadata": {},
   "outputs": [],
   "source": []
  }
 ],
 "metadata": {
  "kernelspec": {
   "display_name": "Python 3",
   "language": "python",
   "name": "python3"
  },
  "language_info": {
   "codemirror_mode": {
    "name": "ipython",
    "version": 3
   },
   "file_extension": ".py",
   "mimetype": "text/x-python",
   "name": "python",
   "nbconvert_exporter": "python",
   "pygments_lexer": "ipython3",
   "version": "3.8.5"
  }
 },
 "nbformat": 4,
 "nbformat_minor": 4
}
